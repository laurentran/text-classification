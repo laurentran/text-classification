{
 "cells": [
  {
   "cell_type": "markdown",
   "metadata": {},
   "source": [
    "# NLP Methods for Text Classification"
   ]
  },
  {
   "cell_type": "code",
   "execution_count": 25,
   "metadata": {
    "slideshow": {
     "slide_type": "skip"
    }
   },
   "outputs": [],
   "source": [
    "import warnings; warnings.simplefilter(\"ignore\")\n",
    "import nltk\n",
    "import itertools\n",
    "import pandas as pd\n",
    "import numpy as np\n",
    "import matplotlib.pyplot as plt\n",
    "\n",
    "from livelossplot import PlotLossesKeras\n",
    "from keras.models import Model, Sequential\n",
    "from keras.utils import to_categorical\n",
    "from keras.layers import LSTM, Dense, Dropout, Flatten, Activation, Conv1D, MaxPooling1D, BatchNormalization, Bidirectional\n",
    "\n",
    "from nltk.tokenize import word_tokenize, RegexpTokenizer\n",
    "from nltk.corpus import stopwords, wordnet\n",
    "from nltk.stem.wordnet import WordNetLemmatizer\n",
    "\n",
    "from sklearn.decomposition import PCA\n",
    "from sklearn.utils import resample\n",
    "from sklearn.metrics import classification_report, confusion_matrix \n",
    "from sklearn.feature_extraction.text import CountVectorizer, TfidfVectorizer\n",
    "from sklearn.model_selection import train_test_split\n",
    "from sklearn.ensemble import ExtraTreesClassifier\n",
    "\n",
    "from gensim.models import Word2Vec\n",
    "from gensim.test.utils import common_texts\n",
    "from gensim.models.doc2vec import Doc2Vec, TaggedDocument\n",
    "\n",
    "from sklearn.utils import resample"
   ]
  },
  {
   "cell_type": "code",
   "execution_count": 45,
   "metadata": {},
   "outputs": [
    {
     "name": "stdout",
     "output_type": "stream",
     "text": [
      "[nltk_data] Downloading package stopwords to /home/latra/nltk_data...\n",
      "[nltk_data]   Package stopwords is already up-to-date!\n",
      "[nltk_data] Downloading package wordnet to /home/latra/nltk_data...\n",
      "[nltk_data]   Package wordnet is already up-to-date!\n",
      "[nltk_data] Downloading package punkt to /home/latra/nltk_data...\n",
      "[nltk_data]   Package punkt is already up-to-date!\n"
     ]
    },
    {
     "data": {
      "text/plain": [
       "True"
      ]
     },
     "execution_count": 45,
     "metadata": {},
     "output_type": "execute_result"
    }
   ],
   "source": [
    "nltk.download('stopwords')\n",
    "nltk.download('wordnet')\n",
    "nltk.download('punkt')"
   ]
  },
  {
   "cell_type": "code",
   "execution_count": 2,
   "metadata": {},
   "outputs": [
    {
     "data": {
      "text/plain": [
       "<Figure size 1332x756 with 0 Axes>"
      ]
     },
     "metadata": {},
     "output_type": "display_data"
    }
   ],
   "source": [
    "pd.options.display.max_seq_items = 100\n",
    "pd.options.display.max_columns = None\n",
    "pd.set_option('display.max_colwidth', 200)\n",
    "np.set_printoptions(threshold=np.inf)\n",
    "fig = plt.gcf()\n",
    "fig.set_size_inches(18.5, 10.5)\n",
    "\n",
    "EMBEDDING_LENGTH = 300"
   ]
  },
  {
   "cell_type": "markdown",
   "metadata": {},
   "source": [
    "### Classes and helper functions"
   ]
  },
  {
   "cell_type": "code",
   "execution_count": 3,
   "metadata": {
    "slideshow": {
     "slide_type": "skip"
    }
   },
   "outputs": [],
   "source": [
    "class MeanEmbeddingVectorizer(object):\n",
    "    def __init__(self, word2vec):\n",
    "        self.word2vec = word2vec\n",
    "        \n",
    "    def fit(self, X, y):\n",
    "        return self \n",
    "\n",
    "    def transform(self, X):\n",
    "        retVal = []\n",
    "        for line in X:\n",
    "            temp = np.array(np.mean([self.word2vec[w] for w in line.split() if w in self.word2vec] \n",
    "                                or [np.zeros(EMBEDDING_LENGTH)], axis=0))\n",
    "            retVal.append(temp)\n",
    "        return retVal"
   ]
  },
  {
   "cell_type": "code",
   "execution_count": 4,
   "metadata": {
    "slideshow": {
     "slide_type": "skip"
    }
   },
   "outputs": [],
   "source": [
    "class LemmaTokenizer(object):\n",
    "    def __init__(self):\n",
    "        self.wnl = WordNetLemmatizer()\n",
    "    def __call__(self, articles):\n",
    "        return [self.wnl.lemmatize(t) for t in word_tokenize(articles)]"
   ]
  },
  {
   "cell_type": "code",
   "execution_count": 5,
   "metadata": {
    "slideshow": {
     "slide_type": "skip"
    }
   },
   "outputs": [],
   "source": [
    "# create input volume for RNN with output shape [samples, timesteps, features]\n",
    "def input_volume(model, word_list, timesteps):\n",
    "    w2v = np.zeros([len(word_list), timesteps, EMBEDDING_LENGTH])\n",
    "    c1 = 0\n",
    "    for word in word_list:\n",
    "        x = np.zeros([timesteps, EMBEDDING_LENGTH])\n",
    "        if type(word) == list:\n",
    "            c2 = 0\n",
    "            for i, w in enumerate(word):\n",
    "                if i < timesteps:\n",
    "                    try: \n",
    "                        x[c2] = model[w]\n",
    "                        c2 += 1\n",
    "                    except KeyError:\n",
    "                        pass\n",
    "        elif type(word) == str:\n",
    "            x[0] = model[word]\n",
    "        w2v[c1] = x\n",
    "        c1 += 1\n",
    "    return w2v"
   ]
  },
  {
   "cell_type": "code",
   "execution_count": 8,
   "metadata": {
    "slideshow": {
     "slide_type": "skip"
    }
   },
   "outputs": [],
   "source": [
    "# from https://scikit-learn.org/stable/_downloads/plot_confusion_matrix.py\n",
    "def plot_confusion_matrix(cm, classes,\n",
    "                          normalize=False,\n",
    "                          cmap=plt.cm.Blues):\n",
    "    \"\"\"\n",
    "    This function prints and plots the confusion matrix.\n",
    "    Normalization can be applied by setting `normalize=True`.\n",
    "    \"\"\"\n",
    "    if normalize:\n",
    "        cm = cm.astype('float') / cm.sum(axis=1)[:, np.newaxis]\n",
    "        title='Normalized confusion matrix'\n",
    "    else:\n",
    "        title='Confusion matrix'\n",
    "\n",
    "    plt.imshow(cm, interpolation='nearest', cmap=cmap)\n",
    "    plt.title(title)\n",
    "    plt.colorbar()\n",
    "    tick_marks = np.arange(len(classes))\n",
    "    plt.xticks(tick_marks, classes, rotation=45)\n",
    "    plt.yticks(tick_marks, classes)\n",
    "\n",
    "    fmt = '.2f' if normalize else 'd'\n",
    "    thresh = cm.max() / 2.\n",
    "    for i, j in itertools.product(range(cm.shape[0]), range(cm.shape[1])):\n",
    "        plt.text(j, i, format(cm[i, j], fmt),\n",
    "                 horizontalalignment=\"center\",\n",
    "                 color=\"white\" if cm[i, j] > thresh else \"black\")\n",
    "\n",
    "    plt.tight_layout()\n",
    "    plt.ylabel('True label')\n",
    "    plt.xlabel('Predicted label')\n",
    "    plt.show() \n"
   ]
  },
  {
   "cell_type": "code",
   "execution_count": 9,
   "metadata": {
    "slideshow": {
     "slide_type": "skip"
    }
   },
   "outputs": [],
   "source": [
    "# create additional \"class\" column with encoded label \n",
    "def encode_label(df, label):\n",
    "    label_encoder = preprocessing.LabelEncoder()\n",
    "    label_encoder.fit(df[label].unique())\n",
    "    df[\"class\"] = label_encoder.transform(df[label])\n",
    "    return df"
   ]
  },
  {
   "cell_type": "code",
   "execution_count": 23,
   "metadata": {},
   "outputs": [],
   "source": [
    "def get_df_using_threshold(df, column, threshold):\n",
    "    values = df[column].value_counts().keys().tolist()\n",
    "    count_df = df[column].value_counts().to_frame()\n",
    "    high_occurence_df = count_df[count_df[column].values >= threshold]\n",
    "    high_occurence_vals = high_occurence_df.index.tolist()\n",
    "    final_df = df.loc[df[column].isin(high_occurence_vals)]\n",
    "    return final_df"
   ]
  },
  {
   "cell_type": "markdown",
   "metadata": {
    "slideshow": {
     "slide_type": "skip"
    }
   },
   "source": [
    "## Read data and preprocess text"
   ]
  },
  {
   "cell_type": "code",
   "execution_count": 26,
   "metadata": {
    "slideshow": {
     "slide_type": "slide"
    }
   },
   "outputs": [
    {
     "name": "stdout",
     "output_type": "stream",
     "text": [
      "Audio, Communication, Navigation System    1442\n",
      "Interior Operation & Controls              1253\n",
      "Exterior Body                               992\n",
      "Interior Fit and Appearance                 716\n",
      "Seats                                       711\n",
      "Engine                                      688\n",
      "Handling & Steering                         430\n",
      "Gauges & Lights                             315\n",
      "Heating, Ventilation & Cooling              279\n",
      "Transmssion                                 249\n",
      "Brakes                                      173\n",
      "Name: Category_1, dtype: int64\n"
     ]
    },
    {
     "data": {
      "text/html": [
       "<div>\n",
       "<style scoped>\n",
       "    .dataframe tbody tr th:only-of-type {\n",
       "        vertical-align: middle;\n",
       "    }\n",
       "\n",
       "    .dataframe tbody tr th {\n",
       "        vertical-align: top;\n",
       "    }\n",
       "\n",
       "    .dataframe thead th {\n",
       "        text-align: right;\n",
       "    }\n",
       "</style>\n",
       "<table border=\"1\" class=\"dataframe\">\n",
       "  <thead>\n",
       "    <tr style=\"text-align: right;\">\n",
       "      <th></th>\n",
       "      <th>Unnamed: 0</th>\n",
       "      <th>Tieback</th>\n",
       "      <th>Comment</th>\n",
       "      <th>CategoryCode</th>\n",
       "      <th>Category</th>\n",
       "      <th>SubCategoryCode</th>\n",
       "      <th>SubCategory</th>\n",
       "      <th>Coded CategoryCode</th>\n",
       "      <th>Category_1</th>\n",
       "      <th>Coded SubCategoryCode</th>\n",
       "      <th>SubCategory_1</th>\n",
       "      <th>ConditionCode</th>\n",
       "      <th>Condition Description</th>\n",
       "      <th>FinalCode</th>\n",
       "      <th>Hot Alert</th>\n",
       "    </tr>\n",
       "  </thead>\n",
       "  <tbody>\n",
       "    <tr>\n",
       "      <th>0</th>\n",
       "      <td>0</td>\n",
       "      <td>57547163</td>\n",
       "      <td>S-E All the previous vehicles I've had turn on the low-fuel light near 20 miles.  The Toyota Tundray turns on the light near 5 miles.  It's very little margin to reach the nearest service station ...</td>\n",
       "      <td>45</td>\n",
       "      <td>Gauges &amp; Lights</td>\n",
       "      <td>7</td>\n",
       "      <td>Low fuel light</td>\n",
       "      <td>45.0</td>\n",
       "      <td>Gauges &amp; Lights</td>\n",
       "      <td>7.0</td>\n",
       "      <td>Low fuel light</td>\n",
       "      <td>WC</td>\n",
       "      <td>Would like to have, change, add feature, make standard</td>\n",
       "      <td>054507WC</td>\n",
       "      <td>False</td>\n",
       "    </tr>\n",
       "    <tr>\n",
       "      <th>1</th>\n",
       "      <td>1</td>\n",
       "      <td>57658128</td>\n",
       "      <td>When I plug it in, the charging station shows my car is charging at 0.10kW, which means it is not even charging. This happen many times, I have to start my car and turn it off again and plug in th...</td>\n",
       "      <td>41</td>\n",
       "      <td>Engine</td>\n",
       "      <td>21</td>\n",
       "      <td>Electric/hybrid battery charging</td>\n",
       "      <td>41.0</td>\n",
       "      <td>Engine</td>\n",
       "      <td>21.0</td>\n",
       "      <td>Electric/hybrid battery charging</td>\n",
       "      <td>CR</td>\n",
       "      <td>Charging</td>\n",
       "      <td>054121CR</td>\n",
       "      <td>True</td>\n",
       "    </tr>\n",
       "    <tr>\n",
       "      <th>2</th>\n",
       "      <td>2</td>\n",
       "      <td>57644364</td>\n",
       "      <td>Cross bars should fold into the roof rails like Subaru vehicle do.  Having to put on and take off the cross bars is difficult and hard to remember if not done all the time.  You have to plan ahead...</td>\n",
       "      <td>19</td>\n",
       "      <td>Exterior Body</td>\n",
       "      <td>12</td>\n",
       "      <td>Roof rack</td>\n",
       "      <td>19.0</td>\n",
       "      <td>Exterior Body</td>\n",
       "      <td>12.0</td>\n",
       "      <td>Roof rack</td>\n",
       "      <td>WC</td>\n",
       "      <td>Would like to have, change, add feature, make standard</td>\n",
       "      <td>051912WC</td>\n",
       "      <td>True</td>\n",
       "    </tr>\n",
       "    <tr>\n",
       "      <th>3</th>\n",
       "      <td>3</td>\n",
       "      <td>57703546</td>\n",
       "      <td>Not sure this is park assist or pre collision but what ever the proximity sensors work with I have a few issues.  1. When the car is in reverse, I don't think that an alarm should sound for things...</td>\n",
       "      <td>14</td>\n",
       "      <td>Interior Operation &amp; Controls</td>\n",
       "      <td>27</td>\n",
       "      <td>Park assist</td>\n",
       "      <td>14.0</td>\n",
       "      <td>Interior Operation &amp; Controls</td>\n",
       "      <td>27.0</td>\n",
       "      <td>Park assist</td>\n",
       "      <td>WC</td>\n",
       "      <td>Would like to have, change, add feature, make standard</td>\n",
       "      <td>051427WC</td>\n",
       "      <td>True</td>\n",
       "    </tr>\n",
       "    <tr>\n",
       "      <th>4</th>\n",
       "      <td>4</td>\n",
       "      <td>57693044</td>\n",
       "      <td>Since the head unit in my 2020 Tacoma support CarPlay and Android Auto, I have no built-in apps AT ALL. NO Entune App Suite. WHY NOT??? Why would Toyota REMOVE built-in functionality when they add...</td>\n",
       "      <td>29</td>\n",
       "      <td>Audio, Communication, Navigation System</td>\n",
       "      <td>99</td>\n",
       "      <td>Audio/Comm/Nav problem other than listed</td>\n",
       "      <td>29.0</td>\n",
       "      <td>Audio, Communication, Navigation System</td>\n",
       "      <td>99.0</td>\n",
       "      <td>Audio/Comm/Nav problem other than listed</td>\n",
       "      <td>WC</td>\n",
       "      <td>Would like to have, change, add feature, make standard</td>\n",
       "      <td>052999WC</td>\n",
       "      <td>True</td>\n",
       "    </tr>\n",
       "  </tbody>\n",
       "</table>\n",
       "</div>"
      ],
      "text/plain": [
       "   Unnamed: 0   Tieback  \\\n",
       "0           0  57547163   \n",
       "1           1  57658128   \n",
       "2           2  57644364   \n",
       "3           3  57703546   \n",
       "4           4  57693044   \n",
       "\n",
       "                                                                                                                                                                                                   Comment  \\\n",
       "0  S-E All the previous vehicles I've had turn on the low-fuel light near 20 miles.  The Toyota Tundray turns on the light near 5 miles.  It's very little margin to reach the nearest service station ...   \n",
       "1  When I plug it in, the charging station shows my car is charging at 0.10kW, which means it is not even charging. This happen many times, I have to start my car and turn it off again and plug in th...   \n",
       "2  Cross bars should fold into the roof rails like Subaru vehicle do.  Having to put on and take off the cross bars is difficult and hard to remember if not done all the time.  You have to plan ahead...   \n",
       "3  Not sure this is park assist or pre collision but what ever the proximity sensors work with I have a few issues.  1. When the car is in reverse, I don't think that an alarm should sound for things...   \n",
       "4  Since the head unit in my 2020 Tacoma support CarPlay and Android Auto, I have no built-in apps AT ALL. NO Entune App Suite. WHY NOT??? Why would Toyota REMOVE built-in functionality when they add...   \n",
       "\n",
       "   CategoryCode                                 Category  SubCategoryCode  \\\n",
       "0            45                          Gauges & Lights                7   \n",
       "1            41                                   Engine               21   \n",
       "2            19                            Exterior Body               12   \n",
       "3            14            Interior Operation & Controls               27   \n",
       "4            29  Audio, Communication, Navigation System               99   \n",
       "\n",
       "                                SubCategory  Coded CategoryCode  \\\n",
       "0                            Low fuel light                45.0   \n",
       "1          Electric/hybrid battery charging                41.0   \n",
       "2                                 Roof rack                19.0   \n",
       "3                               Park assist                14.0   \n",
       "4  Audio/Comm/Nav problem other than listed                29.0   \n",
       "\n",
       "                                Category_1  Coded SubCategoryCode  \\\n",
       "0                          Gauges & Lights                    7.0   \n",
       "1                                   Engine                   21.0   \n",
       "2                            Exterior Body                   12.0   \n",
       "3            Interior Operation & Controls                   27.0   \n",
       "4  Audio, Communication, Navigation System                   99.0   \n",
       "\n",
       "                              SubCategory_1 ConditionCode  \\\n",
       "0                            Low fuel light            WC   \n",
       "1          Electric/hybrid battery charging            CR   \n",
       "2                                 Roof rack            WC   \n",
       "3                               Park assist            WC   \n",
       "4  Audio/Comm/Nav problem other than listed            WC   \n",
       "\n",
       "                                    Condition Description FinalCode  Hot Alert  \n",
       "0  Would like to have, change, add feature, make standard  054507WC      False  \n",
       "1                                                Charging  054121CR       True  \n",
       "2  Would like to have, change, add feature, make standard  051912WC       True  \n",
       "3  Would like to have, change, add feature, make standard  051427WC       True  \n",
       "4  Would like to have, change, add feature, make standard  052999WC       True  "
      ]
     },
     "execution_count": 26,
     "metadata": {},
     "output_type": "execute_result"
    }
   ],
   "source": [
    "# read text from csv\n",
    "all_data = pd.read_csv('data.csv')\n",
    "target='Category_1'\n",
    "data = get_df_using_threshold(all_data, target, 50)\n",
    "print(data[target].value_counts())\n",
    "data.head()"
   ]
  },
  {
   "cell_type": "code",
   "execution_count": 27,
   "metadata": {},
   "outputs": [
    {
     "data": {
      "text/html": [
       "<div>\n",
       "<style scoped>\n",
       "    .dataframe tbody tr th:only-of-type {\n",
       "        vertical-align: middle;\n",
       "    }\n",
       "\n",
       "    .dataframe tbody tr th {\n",
       "        vertical-align: top;\n",
       "    }\n",
       "\n",
       "    .dataframe thead th {\n",
       "        text-align: right;\n",
       "    }\n",
       "</style>\n",
       "<table border=\"1\" class=\"dataframe\">\n",
       "  <thead>\n",
       "    <tr style=\"text-align: right;\">\n",
       "      <th></th>\n",
       "      <th>Comment</th>\n",
       "      <th>Category_1</th>\n",
       "    </tr>\n",
       "  </thead>\n",
       "  <tbody>\n",
       "    <tr>\n",
       "      <th>0</th>\n",
       "      <td>S-E All the previous vehicles I've had turn on the low-fuel light near 20 miles.  The Toyota Tundray turns on the light near 5 miles.  It's very little margin to reach the nearest service station ...</td>\n",
       "      <td>Gauges &amp; Lights</td>\n",
       "    </tr>\n",
       "    <tr>\n",
       "      <th>1</th>\n",
       "      <td>When I plug it in, the charging station shows my car is charging at 0.10kW, which means it is not even charging. This happen many times, I have to start my car and turn it off again and plug in th...</td>\n",
       "      <td>Engine</td>\n",
       "    </tr>\n",
       "    <tr>\n",
       "      <th>2</th>\n",
       "      <td>Cross bars should fold into the roof rails like Subaru vehicle do.  Having to put on and take off the cross bars is difficult and hard to remember if not done all the time.  You have to plan ahead...</td>\n",
       "      <td>Exterior Body</td>\n",
       "    </tr>\n",
       "    <tr>\n",
       "      <th>3</th>\n",
       "      <td>Not sure this is park assist or pre collision but what ever the proximity sensors work with I have a few issues.  1. When the car is in reverse, I don't think that an alarm should sound for things...</td>\n",
       "      <td>Interior Operation &amp; Controls</td>\n",
       "    </tr>\n",
       "    <tr>\n",
       "      <th>4</th>\n",
       "      <td>Since the head unit in my 2020 Tacoma support CarPlay and Android Auto, I have no built-in apps AT ALL. NO Entune App Suite. WHY NOT??? Why would Toyota REMOVE built-in functionality when they add...</td>\n",
       "      <td>Audio, Communication, Navigation System</td>\n",
       "    </tr>\n",
       "  </tbody>\n",
       "</table>\n",
       "</div>"
      ],
      "text/plain": [
       "                                                                                                                                                                                                   Comment  \\\n",
       "0  S-E All the previous vehicles I've had turn on the low-fuel light near 20 miles.  The Toyota Tundray turns on the light near 5 miles.  It's very little margin to reach the nearest service station ...   \n",
       "1  When I plug it in, the charging station shows my car is charging at 0.10kW, which means it is not even charging. This happen many times, I have to start my car and turn it off again and plug in th...   \n",
       "2  Cross bars should fold into the roof rails like Subaru vehicle do.  Having to put on and take off the cross bars is difficult and hard to remember if not done all the time.  You have to plan ahead...   \n",
       "3  Not sure this is park assist or pre collision but what ever the proximity sensors work with I have a few issues.  1. When the car is in reverse, I don't think that an alarm should sound for things...   \n",
       "4  Since the head unit in my 2020 Tacoma support CarPlay and Android Auto, I have no built-in apps AT ALL. NO Entune App Suite. WHY NOT??? Why would Toyota REMOVE built-in functionality when they add...   \n",
       "\n",
       "                                Category_1  \n",
       "0                          Gauges & Lights  \n",
       "1                                   Engine  \n",
       "2                            Exterior Body  \n",
       "3            Interior Operation & Controls  \n",
       "4  Audio, Communication, Navigation System  "
      ]
     },
     "execution_count": 27,
     "metadata": {},
     "output_type": "execute_result"
    }
   ],
   "source": [
    "# working only with text and labels for now\n",
    "data = data[['Comment','Category_1']]\n",
    "data.head()"
   ]
  },
  {
   "cell_type": "code",
   "execution_count": 28,
   "metadata": {},
   "outputs": [
    {
     "data": {
      "text/html": [
       "<div>\n",
       "<style scoped>\n",
       "    .dataframe tbody tr th:only-of-type {\n",
       "        vertical-align: middle;\n",
       "    }\n",
       "\n",
       "    .dataframe tbody tr th {\n",
       "        vertical-align: top;\n",
       "    }\n",
       "\n",
       "    .dataframe thead th {\n",
       "        text-align: right;\n",
       "    }\n",
       "</style>\n",
       "<table border=\"1\" class=\"dataframe\">\n",
       "  <thead>\n",
       "    <tr style=\"text-align: right;\">\n",
       "      <th></th>\n",
       "      <th>text</th>\n",
       "      <th>label</th>\n",
       "    </tr>\n",
       "  </thead>\n",
       "  <tbody>\n",
       "    <tr>\n",
       "      <th>0</th>\n",
       "      <td>S-E All the previous vehicles I've had turn on the low-fuel light near 20 miles.  The Toyota Tundray turns on the light near 5 miles.  It's very little margin to reach the nearest service station ...</td>\n",
       "      <td>Gauges &amp; Lights</td>\n",
       "    </tr>\n",
       "    <tr>\n",
       "      <th>1</th>\n",
       "      <td>When I plug it in, the charging station shows my car is charging at 0.10kW, which means it is not even charging. This happen many times, I have to start my car and turn it off again and plug in th...</td>\n",
       "      <td>Engine</td>\n",
       "    </tr>\n",
       "    <tr>\n",
       "      <th>2</th>\n",
       "      <td>Cross bars should fold into the roof rails like Subaru vehicle do.  Having to put on and take off the cross bars is difficult and hard to remember if not done all the time.  You have to plan ahead...</td>\n",
       "      <td>Exterior Body</td>\n",
       "    </tr>\n",
       "    <tr>\n",
       "      <th>3</th>\n",
       "      <td>Not sure this is park assist or pre collision but what ever the proximity sensors work with I have a few issues.  1. When the car is in reverse, I don't think that an alarm should sound for things...</td>\n",
       "      <td>Interior Operation &amp; Controls</td>\n",
       "    </tr>\n",
       "    <tr>\n",
       "      <th>4</th>\n",
       "      <td>Since the head unit in my 2020 Tacoma support CarPlay and Android Auto, I have no built-in apps AT ALL. NO Entune App Suite. WHY NOT??? Why would Toyota REMOVE built-in functionality when they add...</td>\n",
       "      <td>Audio, Communication, Navigation System</td>\n",
       "    </tr>\n",
       "  </tbody>\n",
       "</table>\n",
       "</div>"
      ],
      "text/plain": [
       "                                                                                                                                                                                                      text  \\\n",
       "0  S-E All the previous vehicles I've had turn on the low-fuel light near 20 miles.  The Toyota Tundray turns on the light near 5 miles.  It's very little margin to reach the nearest service station ...   \n",
       "1  When I plug it in, the charging station shows my car is charging at 0.10kW, which means it is not even charging. This happen many times, I have to start my car and turn it off again and plug in th...   \n",
       "2  Cross bars should fold into the roof rails like Subaru vehicle do.  Having to put on and take off the cross bars is difficult and hard to remember if not done all the time.  You have to plan ahead...   \n",
       "3  Not sure this is park assist or pre collision but what ever the proximity sensors work with I have a few issues.  1. When the car is in reverse, I don't think that an alarm should sound for things...   \n",
       "4  Since the head unit in my 2020 Tacoma support CarPlay and Android Auto, I have no built-in apps AT ALL. NO Entune App Suite. WHY NOT??? Why would Toyota REMOVE built-in functionality when they add...   \n",
       "\n",
       "                                     label  \n",
       "0                          Gauges & Lights  \n",
       "1                                   Engine  \n",
       "2                            Exterior Body  \n",
       "3            Interior Operation & Controls  \n",
       "4  Audio, Communication, Navigation System  "
      ]
     },
     "execution_count": 28,
     "metadata": {},
     "output_type": "execute_result"
    }
   ],
   "source": [
    "# rename columns\n",
    "df = data\n",
    "df.columns = ['text','label']\n",
    "df.head()"
   ]
  },
  {
   "cell_type": "code",
   "execution_count": 29,
   "metadata": {
    "slideshow": {
     "slide_type": "slide"
    }
   },
   "outputs": [
    {
     "data": {
      "text/html": [
       "<div>\n",
       "<style scoped>\n",
       "    .dataframe tbody tr th:only-of-type {\n",
       "        vertical-align: middle;\n",
       "    }\n",
       "\n",
       "    .dataframe tbody tr th {\n",
       "        vertical-align: top;\n",
       "    }\n",
       "\n",
       "    .dataframe thead th {\n",
       "        text-align: right;\n",
       "    }\n",
       "</style>\n",
       "<table border=\"1\" class=\"dataframe\">\n",
       "  <thead>\n",
       "    <tr style=\"text-align: right;\">\n",
       "      <th></th>\n",
       "      <th>text</th>\n",
       "      <th>label</th>\n",
       "      <th>tokens</th>\n",
       "    </tr>\n",
       "  </thead>\n",
       "  <tbody>\n",
       "    <tr>\n",
       "      <th>0</th>\n",
       "      <td>S-E All the previous vehicles I've had turn on the low-fuel light near 20 miles.  The Toyota Tundray turns on the light near 5 miles.  It's very little margin to reach the nearest service station ...</td>\n",
       "      <td>Gauges &amp; Lights</td>\n",
       "      <td>[S, E, All, the, previous, vehicles, I, ve, had, turn, on, the, low, fuel, light, near, 20, miles, The, Toyota, Tundray, turns, on, the, light, near, 5, miles, It, s, very, little, margin, to, rea...</td>\n",
       "    </tr>\n",
       "    <tr>\n",
       "      <th>1</th>\n",
       "      <td>When I plug it in, the charging station shows my car is charging at 0.10kW, which means it is not even charging. This happen many times, I have to start my car and turn it off again and plug in th...</td>\n",
       "      <td>Engine</td>\n",
       "      <td>[When, I, plug, it, in, the, charging, station, shows, my, car, is, charging, at, 0, 10kW, which, means, it, is, not, even, charging, This, happen, many, times, I, have, to, start, my, car, and, t...</td>\n",
       "    </tr>\n",
       "    <tr>\n",
       "      <th>2</th>\n",
       "      <td>Cross bars should fold into the roof rails like Subaru vehicle do.  Having to put on and take off the cross bars is difficult and hard to remember if not done all the time.  You have to plan ahead...</td>\n",
       "      <td>Exterior Body</td>\n",
       "      <td>[Cross, bars, should, fold, into, the, roof, rails, like, Subaru, vehicle, do, Having, to, put, on, and, take, off, the, cross, bars, is, difficult, and, hard, to, remember, if, not, done, all, th...</td>\n",
       "    </tr>\n",
       "    <tr>\n",
       "      <th>3</th>\n",
       "      <td>Not sure this is park assist or pre collision but what ever the proximity sensors work with I have a few issues.  1. When the car is in reverse, I don't think that an alarm should sound for things...</td>\n",
       "      <td>Interior Operation &amp; Controls</td>\n",
       "      <td>[Not, sure, this, is, park, assist, or, pre, collision, but, what, ever, the, proximity, sensors, work, with, I, have, a, few, issues, 1, When, the, car, is, in, reverse, I, don, t, think, that, a...</td>\n",
       "    </tr>\n",
       "    <tr>\n",
       "      <th>4</th>\n",
       "      <td>Since the head unit in my 2020 Tacoma support CarPlay and Android Auto, I have no built-in apps AT ALL. NO Entune App Suite. WHY NOT??? Why would Toyota REMOVE built-in functionality when they add...</td>\n",
       "      <td>Audio, Communication, Navigation System</td>\n",
       "      <td>[Since, the, head, unit, in, my, 2020, Tacoma, support, CarPlay, and, Android, Auto, I, have, no, built, in, apps, AT, ALL, NO, Entune, App, Suite, WHY, NOT, Why, would, Toyota, REMOVE, built, in,...</td>\n",
       "    </tr>\n",
       "  </tbody>\n",
       "</table>\n",
       "</div>"
      ],
      "text/plain": [
       "                                                                                                                                                                                                      text  \\\n",
       "0  S-E All the previous vehicles I've had turn on the low-fuel light near 20 miles.  The Toyota Tundray turns on the light near 5 miles.  It's very little margin to reach the nearest service station ...   \n",
       "1  When I plug it in, the charging station shows my car is charging at 0.10kW, which means it is not even charging. This happen many times, I have to start my car and turn it off again and plug in th...   \n",
       "2  Cross bars should fold into the roof rails like Subaru vehicle do.  Having to put on and take off the cross bars is difficult and hard to remember if not done all the time.  You have to plan ahead...   \n",
       "3  Not sure this is park assist or pre collision but what ever the proximity sensors work with I have a few issues.  1. When the car is in reverse, I don't think that an alarm should sound for things...   \n",
       "4  Since the head unit in my 2020 Tacoma support CarPlay and Android Auto, I have no built-in apps AT ALL. NO Entune App Suite. WHY NOT??? Why would Toyota REMOVE built-in functionality when they add...   \n",
       "\n",
       "                                     label  \\\n",
       "0                          Gauges & Lights   \n",
       "1                                   Engine   \n",
       "2                            Exterior Body   \n",
       "3            Interior Operation & Controls   \n",
       "4  Audio, Communication, Navigation System   \n",
       "\n",
       "                                                                                                                                                                                                    tokens  \n",
       "0  [S, E, All, the, previous, vehicles, I, ve, had, turn, on, the, low, fuel, light, near, 20, miles, The, Toyota, Tundray, turns, on, the, light, near, 5, miles, It, s, very, little, margin, to, rea...  \n",
       "1  [When, I, plug, it, in, the, charging, station, shows, my, car, is, charging, at, 0, 10kW, which, means, it, is, not, even, charging, This, happen, many, times, I, have, to, start, my, car, and, t...  \n",
       "2  [Cross, bars, should, fold, into, the, roof, rails, like, Subaru, vehicle, do, Having, to, put, on, and, take, off, the, cross, bars, is, difficult, and, hard, to, remember, if, not, done, all, th...  \n",
       "3  [Not, sure, this, is, park, assist, or, pre, collision, but, what, ever, the, proximity, sensors, work, with, I, have, a, few, issues, 1, When, the, car, is, in, reverse, I, don, t, think, that, a...  \n",
       "4  [Since, the, head, unit, in, my, 2020, Tacoma, support, CarPlay, and, Android, Auto, I, have, no, built, in, apps, AT, ALL, NO, Entune, App, Suite, WHY, NOT, Why, would, Toyota, REMOVE, built, in,...  "
      ]
     },
     "execution_count": 29,
     "metadata": {},
     "output_type": "execute_result"
    }
   ],
   "source": [
    "# tokenize \n",
    "tokenizer = RegexpTokenizer('\\w+|\\<[a-z]\\>+')\n",
    "df[\"tokens\"] = df[\"text\"].apply(tokenizer.tokenize)\n",
    "df.head()"
   ]
  },
  {
   "cell_type": "code",
   "execution_count": 31,
   "metadata": {
    "slideshow": {
     "slide_type": "slide"
    }
   },
   "outputs": [
    {
     "data": {
      "text/html": [
       "<div>\n",
       "<style scoped>\n",
       "    .dataframe tbody tr th:only-of-type {\n",
       "        vertical-align: middle;\n",
       "    }\n",
       "\n",
       "    .dataframe tbody tr th {\n",
       "        vertical-align: top;\n",
       "    }\n",
       "\n",
       "    .dataframe thead th {\n",
       "        text-align: right;\n",
       "    }\n",
       "</style>\n",
       "<table border=\"1\" class=\"dataframe\">\n",
       "  <thead>\n",
       "    <tr style=\"text-align: right;\">\n",
       "      <th></th>\n",
       "      <th>text</th>\n",
       "      <th>label</th>\n",
       "      <th>tokens</th>\n",
       "      <th>filtered_text</th>\n",
       "    </tr>\n",
       "  </thead>\n",
       "  <tbody>\n",
       "    <tr>\n",
       "      <th>0</th>\n",
       "      <td>S-E All the previous vehicles I've had turn on the low-fuel light near 20 miles.  The Toyota Tundray turns on the light near 5 miles.  It's very little margin to reach the nearest service station ...</td>\n",
       "      <td>Gauges &amp; Lights</td>\n",
       "      <td>[S, E, All, the, previous, vehicles, I, ve, had, turn, on, the, low, fuel, light, near, 20, miles, The, Toyota, Tundray, turns, on, the, light, near, 5, miles, It, s, very, little, margin, to, rea...</td>\n",
       "      <td>[S, E, All, previous, vehicles, I, turn, low, fuel, light, near, 20, miles, The, Toyota, Tundray, turns, light, near, 5, miles, It, little, margin, reach, nearest, service, station, going, highway...</td>\n",
       "    </tr>\n",
       "    <tr>\n",
       "      <th>1</th>\n",
       "      <td>When I plug it in, the charging station shows my car is charging at 0.10kW, which means it is not even charging. This happen many times, I have to start my car and turn it off again and plug in th...</td>\n",
       "      <td>Engine</td>\n",
       "      <td>[When, I, plug, it, in, the, charging, station, shows, my, car, is, charging, at, 0, 10kW, which, means, it, is, not, even, charging, This, happen, many, times, I, have, to, start, my, car, and, t...</td>\n",
       "      <td>[When, I, plug, charging, station, shows, car, charging, 0, 10kW, means, even, charging, This, happen, many, times, I, start, car, turn, plug, charging, cable, order, really, start, charging, In, ...</td>\n",
       "    </tr>\n",
       "    <tr>\n",
       "      <th>2</th>\n",
       "      <td>Cross bars should fold into the roof rails like Subaru vehicle do.  Having to put on and take off the cross bars is difficult and hard to remember if not done all the time.  You have to plan ahead...</td>\n",
       "      <td>Exterior Body</td>\n",
       "      <td>[Cross, bars, should, fold, into, the, roof, rails, like, Subaru, vehicle, do, Having, to, put, on, and, take, off, the, cross, bars, is, difficult, and, hard, to, remember, if, not, done, all, th...</td>\n",
       "      <td>[Cross, bars, fold, roof, rails, like, Subaru, vehicle, Having, put, take, cross, bars, difficult, hard, remember, done, time, You, plan, ahead, going, use, cross, bars, make, sure, bring, Because...</td>\n",
       "    </tr>\n",
       "    <tr>\n",
       "      <th>3</th>\n",
       "      <td>Not sure this is park assist or pre collision but what ever the proximity sensors work with I have a few issues.  1. When the car is in reverse, I don't think that an alarm should sound for things...</td>\n",
       "      <td>Interior Operation &amp; Controls</td>\n",
       "      <td>[Not, sure, this, is, park, assist, or, pre, collision, but, what, ever, the, proximity, sensors, work, with, I, have, a, few, issues, 1, When, the, car, is, in, reverse, I, don, t, think, that, a...</td>\n",
       "      <td>[Not, sure, park, assist, pre, collision, ever, proximity, sensors, work, I, issues, 1, When, car, reverse, I, think, alarm, sound, things, front, car, Say, im, pulling, parking, space, often, ala...</td>\n",
       "    </tr>\n",
       "    <tr>\n",
       "      <th>4</th>\n",
       "      <td>Since the head unit in my 2020 Tacoma support CarPlay and Android Auto, I have no built-in apps AT ALL. NO Entune App Suite. WHY NOT??? Why would Toyota REMOVE built-in functionality when they add...</td>\n",
       "      <td>Audio, Communication, Navigation System</td>\n",
       "      <td>[Since, the, head, unit, in, my, 2020, Tacoma, support, CarPlay, and, Android, Auto, I, have, no, built, in, apps, AT, ALL, NO, Entune, App, Suite, WHY, NOT, Why, would, Toyota, REMOVE, built, in,...</td>\n",
       "      <td>[Since, head, unit, 2020, Tacoma, support, CarPlay, Android, Auto, I, built, apps, AT, ALL, NO, Entune, App, Suite, WHY, NOT, Why, would, Toyota, REMOVE, built, functionality, added, CarPlay, What...</td>\n",
       "    </tr>\n",
       "  </tbody>\n",
       "</table>\n",
       "</div>"
      ],
      "text/plain": [
       "                                                                                                                                                                                                      text  \\\n",
       "0  S-E All the previous vehicles I've had turn on the low-fuel light near 20 miles.  The Toyota Tundray turns on the light near 5 miles.  It's very little margin to reach the nearest service station ...   \n",
       "1  When I plug it in, the charging station shows my car is charging at 0.10kW, which means it is not even charging. This happen many times, I have to start my car and turn it off again and plug in th...   \n",
       "2  Cross bars should fold into the roof rails like Subaru vehicle do.  Having to put on and take off the cross bars is difficult and hard to remember if not done all the time.  You have to plan ahead...   \n",
       "3  Not sure this is park assist or pre collision but what ever the proximity sensors work with I have a few issues.  1. When the car is in reverse, I don't think that an alarm should sound for things...   \n",
       "4  Since the head unit in my 2020 Tacoma support CarPlay and Android Auto, I have no built-in apps AT ALL. NO Entune App Suite. WHY NOT??? Why would Toyota REMOVE built-in functionality when they add...   \n",
       "\n",
       "                                     label  \\\n",
       "0                          Gauges & Lights   \n",
       "1                                   Engine   \n",
       "2                            Exterior Body   \n",
       "3            Interior Operation & Controls   \n",
       "4  Audio, Communication, Navigation System   \n",
       "\n",
       "                                                                                                                                                                                                    tokens  \\\n",
       "0  [S, E, All, the, previous, vehicles, I, ve, had, turn, on, the, low, fuel, light, near, 20, miles, The, Toyota, Tundray, turns, on, the, light, near, 5, miles, It, s, very, little, margin, to, rea...   \n",
       "1  [When, I, plug, it, in, the, charging, station, shows, my, car, is, charging, at, 0, 10kW, which, means, it, is, not, even, charging, This, happen, many, times, I, have, to, start, my, car, and, t...   \n",
       "2  [Cross, bars, should, fold, into, the, roof, rails, like, Subaru, vehicle, do, Having, to, put, on, and, take, off, the, cross, bars, is, difficult, and, hard, to, remember, if, not, done, all, th...   \n",
       "3  [Not, sure, this, is, park, assist, or, pre, collision, but, what, ever, the, proximity, sensors, work, with, I, have, a, few, issues, 1, When, the, car, is, in, reverse, I, don, t, think, that, a...   \n",
       "4  [Since, the, head, unit, in, my, 2020, Tacoma, support, CarPlay, and, Android, Auto, I, have, no, built, in, apps, AT, ALL, NO, Entune, App, Suite, WHY, NOT, Why, would, Toyota, REMOVE, built, in,...   \n",
       "\n",
       "                                                                                                                                                                                             filtered_text  \n",
       "0  [S, E, All, previous, vehicles, I, turn, low, fuel, light, near, 20, miles, The, Toyota, Tundray, turns, light, near, 5, miles, It, little, margin, reach, nearest, service, station, going, highway...  \n",
       "1  [When, I, plug, charging, station, shows, car, charging, 0, 10kW, means, even, charging, This, happen, many, times, I, start, car, turn, plug, charging, cable, order, really, start, charging, In, ...  \n",
       "2  [Cross, bars, fold, roof, rails, like, Subaru, vehicle, Having, put, take, cross, bars, difficult, hard, remember, done, time, You, plan, ahead, going, use, cross, bars, make, sure, bring, Because...  \n",
       "3  [Not, sure, park, assist, pre, collision, ever, proximity, sensors, work, I, issues, 1, When, car, reverse, I, think, alarm, sound, things, front, car, Say, im, pulling, parking, space, often, ala...  \n",
       "4  [Since, head, unit, 2020, Tacoma, support, CarPlay, Android, Auto, I, built, apps, AT, ALL, NO, Entune, App, Suite, WHY, NOT, Why, would, Toyota, REMOVE, built, functionality, added, CarPlay, What...  "
      ]
     },
     "execution_count": 31,
     "metadata": {},
     "output_type": "execute_result"
    }
   ],
   "source": [
    "# remove stop words - filtered tokens not used yet but could be experimented with \n",
    "stop_words = set(stopwords.words('english'))\n",
    "df[\"filtered_text\"] = df[\"tokens\"].apply(lambda x: [w for w in x if not w in stop_words])\n",
    "df.head()"
   ]
  },
  {
   "cell_type": "markdown",
   "metadata": {
    "slideshow": {
     "slide_type": "slide"
    }
   },
   "source": [
    "### Define features and labels"
   ]
  },
  {
   "cell_type": "code",
   "execution_count": 33,
   "metadata": {
    "slideshow": {
     "slide_type": "subslide"
    }
   },
   "outputs": [
    {
     "data": {
      "text/html": [
       "<div>\n",
       "<style scoped>\n",
       "    .dataframe tbody tr th:only-of-type {\n",
       "        vertical-align: middle;\n",
       "    }\n",
       "\n",
       "    .dataframe tbody tr th {\n",
       "        vertical-align: top;\n",
       "    }\n",
       "\n",
       "    .dataframe thead th {\n",
       "        text-align: right;\n",
       "    }\n",
       "</style>\n",
       "<table border=\"1\" class=\"dataframe\">\n",
       "  <thead>\n",
       "    <tr style=\"text-align: right;\">\n",
       "      <th></th>\n",
       "      <th>text</th>\n",
       "      <th>label</th>\n",
       "      <th>tokens</th>\n",
       "      <th>filtered_text</th>\n",
       "      <th>class</th>\n",
       "    </tr>\n",
       "  </thead>\n",
       "  <tbody>\n",
       "    <tr>\n",
       "      <th>0</th>\n",
       "      <td>S-E All the previous vehicles I've had turn on the low-fuel light near 20 miles.  The Toyota Tundray turns on the light near 5 miles.  It's very little margin to reach the nearest service station ...</td>\n",
       "      <td>Gauges &amp; Lights</td>\n",
       "      <td>[S, E, All, the, previous, vehicles, I, ve, had, turn, on, the, low, fuel, light, near, 20, miles, The, Toyota, Tundray, turns, on, the, light, near, 5, miles, It, s, very, little, margin, to, rea...</td>\n",
       "      <td>[S, E, All, previous, vehicles, I, turn, low, fuel, light, near, 20, miles, The, Toyota, Tundray, turns, light, near, 5, miles, It, little, margin, reach, nearest, service, station, going, highway...</td>\n",
       "      <td>4</td>\n",
       "    </tr>\n",
       "    <tr>\n",
       "      <th>1</th>\n",
       "      <td>When I plug it in, the charging station shows my car is charging at 0.10kW, which means it is not even charging. This happen many times, I have to start my car and turn it off again and plug in th...</td>\n",
       "      <td>Engine</td>\n",
       "      <td>[When, I, plug, it, in, the, charging, station, shows, my, car, is, charging, at, 0, 10kW, which, means, it, is, not, even, charging, This, happen, many, times, I, have, to, start, my, car, and, t...</td>\n",
       "      <td>[When, I, plug, charging, station, shows, car, charging, 0, 10kW, means, even, charging, This, happen, many, times, I, start, car, turn, plug, charging, cable, order, really, start, charging, In, ...</td>\n",
       "      <td>2</td>\n",
       "    </tr>\n",
       "    <tr>\n",
       "      <th>2</th>\n",
       "      <td>Cross bars should fold into the roof rails like Subaru vehicle do.  Having to put on and take off the cross bars is difficult and hard to remember if not done all the time.  You have to plan ahead...</td>\n",
       "      <td>Exterior Body</td>\n",
       "      <td>[Cross, bars, should, fold, into, the, roof, rails, like, Subaru, vehicle, do, Having, to, put, on, and, take, off, the, cross, bars, is, difficult, and, hard, to, remember, if, not, done, all, th...</td>\n",
       "      <td>[Cross, bars, fold, roof, rails, like, Subaru, vehicle, Having, put, take, cross, bars, difficult, hard, remember, done, time, You, plan, ahead, going, use, cross, bars, make, sure, bring, Because...</td>\n",
       "      <td>3</td>\n",
       "    </tr>\n",
       "    <tr>\n",
       "      <th>3</th>\n",
       "      <td>Not sure this is park assist or pre collision but what ever the proximity sensors work with I have a few issues.  1. When the car is in reverse, I don't think that an alarm should sound for things...</td>\n",
       "      <td>Interior Operation &amp; Controls</td>\n",
       "      <td>[Not, sure, this, is, park, assist, or, pre, collision, but, what, ever, the, proximity, sensors, work, with, I, have, a, few, issues, 1, When, the, car, is, in, reverse, I, don, t, think, that, a...</td>\n",
       "      <td>[Not, sure, park, assist, pre, collision, ever, proximity, sensors, work, I, issues, 1, When, car, reverse, I, think, alarm, sound, things, front, car, Say, im, pulling, parking, space, often, ala...</td>\n",
       "      <td>8</td>\n",
       "    </tr>\n",
       "    <tr>\n",
       "      <th>4</th>\n",
       "      <td>Since the head unit in my 2020 Tacoma support CarPlay and Android Auto, I have no built-in apps AT ALL. NO Entune App Suite. WHY NOT??? Why would Toyota REMOVE built-in functionality when they add...</td>\n",
       "      <td>Audio, Communication, Navigation System</td>\n",
       "      <td>[Since, the, head, unit, in, my, 2020, Tacoma, support, CarPlay, and, Android, Auto, I, have, no, built, in, apps, AT, ALL, NO, Entune, App, Suite, WHY, NOT, Why, would, Toyota, REMOVE, built, in,...</td>\n",
       "      <td>[Since, head, unit, 2020, Tacoma, support, CarPlay, Android, Auto, I, built, apps, AT, ALL, NO, Entune, App, Suite, WHY, NOT, Why, would, Toyota, REMOVE, built, functionality, added, CarPlay, What...</td>\n",
       "      <td>0</td>\n",
       "    </tr>\n",
       "  </tbody>\n",
       "</table>\n",
       "</div>"
      ],
      "text/plain": [
       "                                                                                                                                                                                                      text  \\\n",
       "0  S-E All the previous vehicles I've had turn on the low-fuel light near 20 miles.  The Toyota Tundray turns on the light near 5 miles.  It's very little margin to reach the nearest service station ...   \n",
       "1  When I plug it in, the charging station shows my car is charging at 0.10kW, which means it is not even charging. This happen many times, I have to start my car and turn it off again and plug in th...   \n",
       "2  Cross bars should fold into the roof rails like Subaru vehicle do.  Having to put on and take off the cross bars is difficult and hard to remember if not done all the time.  You have to plan ahead...   \n",
       "3  Not sure this is park assist or pre collision but what ever the proximity sensors work with I have a few issues.  1. When the car is in reverse, I don't think that an alarm should sound for things...   \n",
       "4  Since the head unit in my 2020 Tacoma support CarPlay and Android Auto, I have no built-in apps AT ALL. NO Entune App Suite. WHY NOT??? Why would Toyota REMOVE built-in functionality when they add...   \n",
       "\n",
       "                                     label  \\\n",
       "0                          Gauges & Lights   \n",
       "1                                   Engine   \n",
       "2                            Exterior Body   \n",
       "3            Interior Operation & Controls   \n",
       "4  Audio, Communication, Navigation System   \n",
       "\n",
       "                                                                                                                                                                                                    tokens  \\\n",
       "0  [S, E, All, the, previous, vehicles, I, ve, had, turn, on, the, low, fuel, light, near, 20, miles, The, Toyota, Tundray, turns, on, the, light, near, 5, miles, It, s, very, little, margin, to, rea...   \n",
       "1  [When, I, plug, it, in, the, charging, station, shows, my, car, is, charging, at, 0, 10kW, which, means, it, is, not, even, charging, This, happen, many, times, I, have, to, start, my, car, and, t...   \n",
       "2  [Cross, bars, should, fold, into, the, roof, rails, like, Subaru, vehicle, do, Having, to, put, on, and, take, off, the, cross, bars, is, difficult, and, hard, to, remember, if, not, done, all, th...   \n",
       "3  [Not, sure, this, is, park, assist, or, pre, collision, but, what, ever, the, proximity, sensors, work, with, I, have, a, few, issues, 1, When, the, car, is, in, reverse, I, don, t, think, that, a...   \n",
       "4  [Since, the, head, unit, in, my, 2020, Tacoma, support, CarPlay, and, Android, Auto, I, have, no, built, in, apps, AT, ALL, NO, Entune, App, Suite, WHY, NOT, Why, would, Toyota, REMOVE, built, in,...   \n",
       "\n",
       "                                                                                                                                                                                             filtered_text  \\\n",
       "0  [S, E, All, previous, vehicles, I, turn, low, fuel, light, near, 20, miles, The, Toyota, Tundray, turns, light, near, 5, miles, It, little, margin, reach, nearest, service, station, going, highway...   \n",
       "1  [When, I, plug, charging, station, shows, car, charging, 0, 10kW, means, even, charging, This, happen, many, times, I, start, car, turn, plug, charging, cable, order, really, start, charging, In, ...   \n",
       "2  [Cross, bars, fold, roof, rails, like, Subaru, vehicle, Having, put, take, cross, bars, difficult, hard, remember, done, time, You, plan, ahead, going, use, cross, bars, make, sure, bring, Because...   \n",
       "3  [Not, sure, park, assist, pre, collision, ever, proximity, sensors, work, I, issues, 1, When, car, reverse, I, think, alarm, sound, things, front, car, Say, im, pulling, parking, space, often, ala...   \n",
       "4  [Since, head, unit, 2020, Tacoma, support, CarPlay, Android, Auto, I, built, apps, AT, ALL, NO, Entune, App, Suite, WHY, NOT, Why, would, Toyota, REMOVE, built, functionality, added, CarPlay, What...   \n",
       "\n",
       "   class  \n",
       "0      4  \n",
       "1      2  \n",
       "2      3  \n",
       "3      8  \n",
       "4      0  "
      ]
     },
     "execution_count": 33,
     "metadata": {},
     "output_type": "execute_result"
    }
   ],
   "source": [
    "# encode labels as integers\n",
    "from sklearn import preprocessing\n",
    "\n",
    "df = encode_label(df, \"label\")\n",
    "df.head()"
   ]
  },
  {
   "cell_type": "code",
   "execution_count": 39,
   "metadata": {
    "slideshow": {
     "slide_type": "subslide"
    }
   },
   "outputs": [],
   "source": [
    "# define X and y\n",
    "X_text = df['text'].tolist()\n",
    "X_tokens = df['tokens'].tolist()\n",
    "\n",
    "y = df['class']\n",
    "y_names = df['label']"
   ]
  },
  {
   "cell_type": "markdown",
   "metadata": {
    "slideshow": {
     "slide_type": "slide"
    }
   },
   "source": [
    "## Bag of Words Vectors"
   ]
  },
  {
   "cell_type": "code",
   "execution_count": 44,
   "metadata": {
    "slideshow": {
     "slide_type": "subslide"
    }
   },
   "outputs": [
    {
     "name": "stdout",
     "output_type": "stream",
     "text": [
      "Vocab size:  6321\n"
     ]
    }
   ],
   "source": [
    "# create Bag-of-words vectors\n",
    "count_vect = CountVectorizer(tokenizer = LemmaTokenizer(), stop_words = 'english')\n",
    "X_bow = count_vect.fit_transform(X_text)\n",
    "bow_vocab = count_vect.get_feature_names()\n",
    "print(\"Vocab size: \",len(bow_vocab))"
   ]
  },
  {
   "cell_type": "code",
   "execution_count": 46,
   "metadata": {
    "slideshow": {
     "slide_type": "subslide"
    }
   },
   "outputs": [
    {
     "name": "stdout",
     "output_type": "stream",
     "text": [
      "Train accuracy:\t0.9804849201655825\n",
      "Test accuracy :\t0.6583908045977012\n"
     ]
    }
   ],
   "source": [
    "# train classifier on BOW vectors\n",
    "X_train_bow, X_test_bow, y_train, y_test = train_test_split(X_bow, y, stratify=y, test_size=0.3, random_state=1)\n",
    "\n",
    "clf_bow = ExtraTreesClassifier(n_estimators = 500, n_jobs = 4, random_state = 1)\n",
    "clf_bow.fit(X_train_bow, y_train)\n",
    "\n",
    "print(\"Train accuracy:\\t\" + str(clf_bow.score(X_train_bow, y_train)))\n",
    "print(\"Test accuracy :\\t\" + str(clf_bow.score(X_test_bow, y_test)))"
   ]
  },
  {
   "cell_type": "code",
   "execution_count": 18,
   "metadata": {
    "slideshow": {
     "slide_type": "subslide"
    }
   },
   "outputs": [
    {
     "name": "stdout",
     "output_type": "stream",
     "text": [
      "             precision    recall  f1-score   support\n",
      "\n",
      "          0    0.71739   0.76744   0.74157        43\n",
      "          1    0.89189   0.97059   0.92958        68\n",
      "          2    0.69863   0.73913   0.71831        69\n",
      "          3    0.67568   0.78125   0.72464        32\n",
      "          4    0.84091   0.92500   0.88095        40\n",
      "          5    0.84314   0.86000   0.85149        50\n",
      "          6    0.88889   0.90323   0.89600        62\n",
      "          7    1.00000   0.54839   0.70833        31\n",
      "          8    0.87500   0.71014   0.78400        69\n",
      "          9    0.92683   0.92683   0.92683        41\n",
      "         10    0.59821   0.87013   0.70899        77\n",
      "         11    0.81508   0.98235   0.89093      9970\n",
      "         12    0.69231   0.21429   0.32727        42\n",
      "         13    0.88889   0.79181   0.83755       293\n",
      "         14    0.80483   0.27674   0.41187      3010\n",
      "         15    0.86364   0.88372   0.87356        43\n",
      "         16    0.70968   0.66667   0.68750        66\n",
      "         17    0.75309   0.47656   0.58373       128\n",
      "         18    0.86207   0.84034   0.85106       119\n",
      "         19    0.95652   0.97778   0.96703        45\n",
      "         20    0.95455   0.78750   0.86301        80\n",
      "         21    0.97778   0.98655   0.98214      2676\n",
      "\n",
      "avg / total    0.83998   0.84086   0.81219     17054\n",
      "\n"
     ]
    },
    {
     "data": {
      "image/png": "[encoded data removed]",
      "text/plain": [
       "<Figure size 432x288 with 2 Axes>"
      ]
     },
     "metadata": {},
     "output_type": "display_data"
    }
   ],
   "source": [
    "# print metrics and confusion matrix\n",
    "classes = clf_bow.predict(X_test_bow).round()\n",
    "print(classification_report(y_test, classes, digits=5))  \n",
    "plot_confusion_matrix(confusion_matrix(y_test, classes), classes=y.unique()) "
   ]
  },
  {
   "cell_type": "code",
   "execution_count": 23,
   "metadata": {
    "slideshow": {
     "slide_type": "skip"
    }
   },
   "outputs": [
    {
     "data": {
      "text/plain": [
       "[(0.11124228606205061, 'revenue'),\n",
       " (0.0710458128788468, 'adjustment'),\n",
       " (0.05637925395024464, 'medicaid'),\n",
       " (0.038578892805792846, 'overhead'),\n",
       " (0.03277330624784323, 'dmh'),\n",
       " (0.02844351673515924, 'commercial'),\n",
       " (0.021506165164456068, 'expense'),\n",
       " (0.014903541917319772, 'medicare'),\n",
       " (0.012743336195817556, 'vehicle'),\n",
       " (0.012723440161384101, 'bad'),\n",
       " (0.012656997874563952, 'debt'),\n",
       " (0.012044468381315999, 'self'),\n",
       " (0.011336000182935232, 'mc'),\n",
       " (0.01103834634027647, 'pay'),\n",
       " (0.010682106925815137, 'charity'),\n",
       " (0.009026717690743303, 'exp'),\n",
       " (0.008980930324008294, 'computer'),\n",
       " (0.00874423202686169, 'grant'),\n",
       " (0.008072920269158415, 'accum'),\n",
       " (0.007963102868473562, 'insurance'),\n",
       " (0.00754923805423494, 'cstar'),\n",
       " (0.00679123700530526, 'cprc'),\n",
       " (0.006769554239477554, 'auto'),\n",
       " (0.0067516481096954436, 'income'),\n",
       " (0.006651443622869142, 'property'),\n",
       " (0.0063236264479899044, 'salary'),\n",
       " (0.006319352010370083, 'ar'),\n",
       " (0.0062392867391016455, 'outside'),\n",
       " (0.006140192081709607, 'refund'),\n",
       " (0.006118409865167763, 'maintenance'),\n",
       " (0.005664179520280192, 'allocation'),\n",
       " (0.005108473344567387, 'ficamedicare'),\n",
       " (0.005005486335752929, 'payable'),\n",
       " (0.004779188872040037, 'contract'),\n",
       " (0.004772912906105023, 'fee'),\n",
       " (0.004722916432028313, 'depreciation'),\n",
       " (0.004714509127933373, 'accrued'),\n",
       " (0.004702816184651929, 'general'),\n",
       " (0.004658317174749554, 'unemployment'),\n",
       " (0.004614993402986861, 'pto'),\n",
       " (0.004590035945339551, 'ldx'),\n",
       " (0.004563986398286176, 'holiday'),\n",
       " (0.0043780245722529875, 'payroll'),\n",
       " (0.004201753568803507, 'health'),\n",
       " (0.0041959492067084525, 'utility'),\n",
       " (0.004192737482701855, 'tax'),\n",
       " (0.0039778940942779535, '401k'),\n",
       " (0.003910691327835072, 'service'),\n",
       " (0.0037040891150622417, 'supply'),\n",
       " (0.003681678092729394, 'office'),\n",
       " (0.003645209736964359, 'gr'),\n",
       " (0.0036367901602118733, 'overtime'),\n",
       " (0.003528145576254051, 'miscellaneous'),\n",
       " (0.003508704857042474, 'note'),\n",
       " (0.0033668702571087628, 'worker'),\n",
       " (0.003359564554400423, 'leased'),\n",
       " (0.003057517472350943, 'veh'),\n",
       " (0.002989848746007591, 'comp'),\n",
       " (0.0029774163370431418, 'lease'),\n",
       " (0.0029225517174486767, 'pr'),\n",
       " (0.0029122570638679397, 'equipment'),\n",
       " (0.0027698406562951562, 'business'),\n",
       " (0.002747094621066429, 'employee'),\n",
       " (0.0027107901332815926, 'rent'),\n",
       " (0.002671945524151847, 'donation'),\n",
       " (0.002632327596490541, 'tofrom'),\n",
       " (0.002611538426669949, 'cip'),\n",
       " (0.0025197264839463282, 'staff'),\n",
       " (0.00244343984161348, 'license'),\n",
       " (0.0024245073042782265, 'sick'),\n",
       " (0.0024155348194717214, 'copier'),\n",
       " (0.0023933160409875965, 'telephone'),\n",
       " (0.002365118553822363, 'fin'),\n",
       " (0.0023290789617049254, 'account'),\n",
       " (0.0022818755737920196, 'job'),\n",
       " (0.0022151592222645687, 'building'),\n",
       " (0.0021854371006577627, 'inktoner'),\n",
       " (0.002177334262014912, 'eap'),\n",
       " (0.002159861049945464, 'cash'),\n",
       " (0.0020643315966561745, 'professional'),\n",
       " (0.0020065821346094497, 'fixed'),\n",
       " (0.00200045712619586, 'allowance'),\n",
       " (0.0019956736201811524, 'port'),\n",
       " (0.0019917845468309645, 'housing'),\n",
       " (0.0019816649429477977, 'repair'),\n",
       " (0.0019644660802381666, 'medical'),\n",
       " (0.0019494329774413619, 'land'),\n",
       " (0.0019326204561313865, 'interpreting'),\n",
       " (0.0018163444226086132, 'cost'),\n",
       " (0.0018086539387936538, 'louisiana'),\n",
       " (0.0017939019461724432, 'disability'),\n",
       " (0.0017790928066429507, 'receivable'),\n",
       " (0.001718311368061994, 'curr'),\n",
       " (0.0017012231843641901, 'accrual'),\n",
       " (0.0016814311848951976, 'travel'),\n",
       " (0.001674196240477648, 'ppd'),\n",
       " (0.0016713867453562548, 'care'),\n",
       " (0.001622904149755456, 'operating'),\n",
       " (0.0016173316881975474, 'np'),\n",
       " (0.001574071569171568, 'equip')]"
      ]
     },
     "execution_count": 23,
     "metadata": {},
     "output_type": "execute_result"
    }
   ],
   "source": [
    "# print feature importances\n",
    "feature_importance_raw = list(zip(clf_bow.feature_importances_, count_vect.get_feature_names()))\n",
    "sorted(feature_importance_raw, reverse=True)[0:100]"
   ]
  },
  {
   "cell_type": "markdown",
   "metadata": {},
   "source": [
    "## TF-IDF Vectors"
   ]
  },
  {
   "cell_type": "code",
   "execution_count": 20,
   "metadata": {
    "slideshow": {
     "slide_type": "skip"
    }
   },
   "outputs": [],
   "source": [
    "# create TF-IDF vectors\n",
    "tfidf = TfidfVectorizer(stop_words='english')\n",
    "X_tfidf = tfidf.fit_transform(X_text)"
   ]
  },
  {
   "cell_type": "code",
   "execution_count": 21,
   "metadata": {
    "slideshow": {
     "slide_type": "skip"
    }
   },
   "outputs": [
    {
     "name": "stdout",
     "output_type": "stream",
     "text": [
      "Train accuracy:\t0.8564248196828429\n",
      "Test accuracy :\t0.8443766858215082\n"
     ]
    }
   ],
   "source": [
    "# train classifier on TF-IDF vectors\n",
    "X_train_tf, X_test_tf, y_train, y_test = train_test_split(X_tfidf, y, stratify=y, test_size=0.3, random_state=1)\n",
    "\n",
    "clf_tf = ExtraTreesClassifier(n_estimators = 500, n_jobs = 4, random_state = 1)\n",
    "clf_tf.fit(X_train_tf, y_train)\n",
    "print(\"Train accuracy:\\t\" + str(clf_tf.score(X_train_tf, y_train)))\n",
    "print(\"Test accuracy :\\t\" + str(clf_tf.score(X_test_tf, y_test)))"
   ]
  },
  {
   "cell_type": "code",
   "execution_count": 22,
   "metadata": {
    "slideshow": {
     "slide_type": "skip"
    }
   },
   "outputs": [
    {
     "name": "stdout",
     "output_type": "stream",
     "text": [
      "             precision    recall  f1-score   support\n",
      "\n",
      "          0    0.75000   0.83721   0.79121        43\n",
      "          1    0.89189   0.97059   0.92958        68\n",
      "          2    0.76119   0.73913   0.75000        69\n",
      "          3    0.67647   0.71875   0.69697        32\n",
      "          4    0.88095   0.92500   0.90244        40\n",
      "          5    0.84314   0.86000   0.85149        50\n",
      "          6    0.94828   0.88710   0.91667        62\n",
      "          7    0.84615   0.70968   0.77193        31\n",
      "          8    0.90000   0.78261   0.83721        69\n",
      "          9    1.00000   0.95122   0.97500        41\n",
      "         10    0.58772   0.87013   0.70157        77\n",
      "         11    0.81767   0.98195   0.89231      9970\n",
      "         12    0.81250   0.30952   0.44828        42\n",
      "         13    0.89437   0.86689   0.88042       293\n",
      "         14    0.80532   0.28173   0.41743      3010\n",
      "         15    0.82609   0.88372   0.85393        43\n",
      "         16    0.77586   0.68182   0.72581        66\n",
      "         17    0.81481   0.51562   0.63158       128\n",
      "         18    0.87931   0.85714   0.86809       119\n",
      "         19    0.97778   0.97778   0.97778        45\n",
      "         20    0.95455   0.78750   0.86301        80\n",
      "         21    0.97817   0.98804   0.98308      2676\n",
      "\n",
      "avg / total    0.84343   0.84438   0.81650     17054\n",
      "\n"
     ]
    },
    {
     "data": {
      "image/png": "[encoded data removed]",
      "text/plain": [
       "<Figure size 432x288 with 2 Axes>"
      ]
     },
     "metadata": {},
     "output_type": "display_data"
    }
   ],
   "source": [
    "pred = clf_tf.predict(X_test_tf)\n",
    "classes = pred.round()\n",
    "print(classification_report(y_test, classes, digits=5))  \n",
    "\n",
    "cnf_matrix = confusion_matrix(y_test, classes)\n",
    "plot_confusion_matrix(cnf_matrix, classes=y.unique()) "
   ]
  },
  {
   "cell_type": "markdown",
   "metadata": {},
   "source": [
    "## Word2Vec Embeddings"
   ]
  },
  {
   "cell_type": "code",
   "execution_count": 64,
   "metadata": {
    "slideshow": {
     "slide_type": "subslide"
    }
   },
   "outputs": [
    {
     "name": "stdout",
     "output_type": "stream",
     "text": [
      "Word2Vec(vocab=691, size=300, alpha=0.025)\n"
     ]
    }
   ],
   "source": [
    "# train word2vec vectors\n",
    "model_w2v = Word2Vec(X_tokens, size = EMBEDDING_LENGTH)\n",
    "w2v = {w: vec for w, vec in zip(model_w2v.wv.index2word, model_w2v.wv.syn0)}\n",
    "print(model_w2v)"
   ]
  },
  {
   "cell_type": "code",
   "execution_count": 65,
   "metadata": {
    "slideshow": {
     "slide_type": "subslide"
    }
   },
   "outputs": [
    {
     "data": {
      "text/plain": [
       "[('medicaid', 0.7022696733474731),\n",
       " ('adjustments', 0.6976547837257385),\n",
       " ('fqhc', 0.6709210872650146),\n",
       " ('ar', 0.6470886468887329),\n",
       " ('adjustment', 0.6410227417945862),\n",
       " ('nextgen', 0.636593222618103),\n",
       " ('provision', 0.636465311050415),\n",
       " ('hch', 0.6317830681800842),\n",
       " ('wrap', 0.6274222135543823),\n",
       " ('debt', 0.6253610849380493)]"
      ]
     },
     "execution_count": 65,
     "metadata": {},
     "output_type": "execute_result"
    }
   ],
   "source": [
    "# example of similarities\n",
    "model_w2v.most_similar(\"revenue\")"
   ]
  },
  {
   "cell_type": "markdown",
   "metadata": {},
   "source": [
    "### Mean embeddings"
   ]
  },
  {
   "cell_type": "code",
   "execution_count": 44,
   "metadata": {
    "slideshow": {
     "slide_type": "subslide"
    }
   },
   "outputs": [],
   "source": [
    "# create Mean Embedding vectors\n",
    "X_w2v = MeanEmbeddingVectorizer(w2v).transform(X_text)"
   ]
  },
  {
   "cell_type": "code",
   "execution_count": 26,
   "metadata": {
    "slideshow": {
     "slide_type": "slide"
    }
   },
   "outputs": [
    {
     "name": "stdout",
     "output_type": "stream",
     "text": [
      "Train accuracy:\t0.8516247392626474\n",
      "Test accuracy:\t0.837809311598452\n"
     ]
    }
   ],
   "source": [
    "# train classifier on word2vec mean embedding vectors\n",
    "X_w2v_df = pd.DataFrame(data = X_w2v)\n",
    "X_train_w2v, X_test_w2v, y_train, y_test = train_test_split(X_w2v_df, y, stratify=y, test_size=0.3, random_state=1)\n",
    "\n",
    "clf_w2v = ExtraTreesClassifier(n_estimators = 500, n_jobs = 4, random_state = 1)\n",
    "clf_w2v.fit(X_train_w2v, y_train)\n",
    "print(\"Train accuracy:\\t\" + str(clf_w2v.score(X_train_w2v, y_train)))\n",
    "print(\"Test accuracy:\\t\" + str(clf_w2v.score(X_test_w2v, y_test)))"
   ]
  },
  {
   "cell_type": "code",
   "execution_count": 27,
   "metadata": {
    "slideshow": {
     "slide_type": "skip"
    }
   },
   "outputs": [
    {
     "name": "stdout",
     "output_type": "stream",
     "text": [
      "             precision    recall  f1-score   support\n",
      "\n",
      "          0    0.70213   0.76744   0.73333        43\n",
      "          1    0.78947   0.88235   0.83333        68\n",
      "          2    0.73913   0.73913   0.73913        69\n",
      "          3    0.65517   0.59375   0.62295        32\n",
      "          4    0.78723   0.92500   0.85057        40\n",
      "          5    0.82609   0.76000   0.79167        50\n",
      "          6    0.82759   0.77419   0.80000        62\n",
      "          7    0.70000   0.45161   0.54902        31\n",
      "          8    0.85714   0.60870   0.71186        69\n",
      "          9    0.87805   0.87805   0.87805        41\n",
      "         10    0.91781   0.87013   0.89333        77\n",
      "         11    0.81515   0.98014   0.89006      9970\n",
      "         12    0.63158   0.28571   0.39344        42\n",
      "         13    0.78788   0.79863   0.79322       293\n",
      "         14    0.80744   0.28140   0.41734      3010\n",
      "         15    0.85714   0.83721   0.84706        43\n",
      "         16    0.79245   0.63636   0.70588        66\n",
      "         17    0.78481   0.48438   0.59903       128\n",
      "         18    0.88393   0.83193   0.85714       119\n",
      "         19    0.97561   0.88889   0.93023        45\n",
      "         20    0.60952   0.80000   0.69189        80\n",
      "         21    0.97089   0.98468   0.97774      2676\n",
      "\n",
      "avg / total    0.83663   0.83781   0.80964     17054\n",
      "\n"
     ]
    },
    {
     "data": {
      "image/png": "[encoded data removed]",
      "text/plain": [
       "<Figure size 432x288 with 2 Axes>"
      ]
     },
     "metadata": {},
     "output_type": "display_data"
    }
   ],
   "source": [
    "# print metrics and confusion matrix\n",
    "classes = clf_w2v.predict(X_test_w2v).round()\n",
    "print(classification_report(y_test, classes, digits=5))  \n",
    "plot_confusion_matrix(confusion_matrix(y_test, classes), classes=y.unique()) "
   ]
  },
  {
   "cell_type": "markdown",
   "metadata": {},
   "source": [
    "### Sequence classification with Word2Vec embeddings"
   ]
  },
  {
   "cell_type": "code",
   "execution_count": 46,
   "metadata": {
    "slideshow": {
     "slide_type": "subslide"
    }
   },
   "outputs": [],
   "source": [
    "# define length of sequence (go back and use max length of documents) and split data\n",
    "max_len = 5 \n",
    "X_train_tokens, X_test_tokens, y_train, y_test = train_test_split(X_tokens, y, stratify=y, test_size=0.3, random_state=1)\n",
    "\n",
    "# create 3d input volume of [samples, timesteps, features]\n",
    "X_train_vol = input_volume(model_w2v, X_train_tokens, max_len)\n",
    "X_test_vol = input_volume(model_w2v, X_test_tokens, max_len)\n",
    "\n",
    "# create one-hot encoded labels\n",
    "y_test_encoded = to_categorical(y_test)\n",
    "y_train_encoded = to_categorical(y_train)\n",
    "\n",
    "num_classes = df['label'].nunique()"
   ]
  },
  {
   "cell_type": "markdown",
   "metadata": {},
   "source": [
    "#### LSTM"
   ]
  },
  {
   "cell_type": "code",
   "execution_count": 36,
   "metadata": {},
   "outputs": [
    {
     "data": {
      "image/png": "[encoded data removed]",
      "text/plain": [
       "<Figure size 864x576 with 2 Axes>"
      ]
     },
     "metadata": {},
     "output_type": "display_data"
    },
    {
     "data": {
      "text/plain": [
       "<keras.callbacks.History at 0x17a57393b00>"
      ]
     },
     "execution_count": 36,
     "metadata": {},
     "output_type": "execute_result"
    }
   ],
   "source": [
    "# build LSTM layers and train model - should experiment with layers, hyperparameters, bidirectional LSTM, and 1D CNN\n",
    "model = Sequential()\n",
    "model.add(LSTM(100, dropout= 0.2, input_shape=(max_len, EMBEDDING_LENGTH)))\n",
    "model.add(Activation('relu'))\n",
    "model.add(Dense(num_classes, activation='softmax'))\n",
    "model.compile(loss='categorical_crossentropy', optimizer='adam', metrics=['accuracy'])\n",
    "print(model.summary())\n",
    "model.fit(X_train_vol, y_train_encoded, validation_data=(X_test_vol, y_test_encoded), epochs=14, batch_size=16,callbacks=[PlotLossesKeras()])"
   ]
  },
  {
   "cell_type": "code",
   "execution_count": 37,
   "metadata": {
    "slideshow": {
     "slide_type": "subslide"
    }
   },
   "outputs": [
    {
     "name": "stdout",
     "output_type": "stream",
     "text": [
      "39791/39791 [==============================] - 9s 236us/step\n",
      "17054/17054 [==============================] - 4s 219us/step\n",
      "Train accuracy:\t0.8342590032981936\n",
      "Test accuracy:\t0.8233259059108686\n"
     ]
    }
   ],
   "source": [
    "# print accuracy\n",
    "score_train = model.evaluate(X_train_vol, y_train_encoded)\n",
    "score_test = model.evaluate(X_test_vol, y_test_encoded)\n",
    "print(\"Train accuracy:\\t\" + str(score_train[1]))\n",
    "print(\"Test accuracy:\\t\" + str(score_test[1]))"
   ]
  },
  {
   "cell_type": "code",
   "execution_count": 38,
   "metadata": {
    "slideshow": {
     "slide_type": "skip"
    }
   },
   "outputs": [
    {
     "name": "stdout",
     "output_type": "stream",
     "text": [
      "             precision    recall  f1-score   support\n",
      "\n",
      "          0    0.85714   0.13953   0.24000        43\n",
      "          1    0.79412   0.79412   0.79412        68\n",
      "          2    0.54839   0.24638   0.34000        69\n",
      "          3    0.52000   0.40625   0.45614        32\n",
      "          4    0.95833   0.57500   0.71875        40\n",
      "          5    0.86364   0.38000   0.52778        50\n",
      "          6    0.73913   0.54839   0.62963        62\n",
      "          7    0.75000   0.29032   0.41860        31\n",
      "          8    0.95833   0.66667   0.78632        69\n",
      "          9    0.82609   0.46341   0.59375        41\n",
      "         10    0.93333   0.54545   0.68852        77\n",
      "         11    0.81812   0.96459   0.88534      9970\n",
      "         12    1.00000   0.07143   0.13333        42\n",
      "         13    0.81509   0.73720   0.77419       293\n",
      "         14    0.74007   0.29701   0.42390      3010\n",
      "         15    0.90244   0.86047   0.88095        43\n",
      "         16    0.89286   0.37879   0.53191        66\n",
      "         17    0.83636   0.35938   0.50273       128\n",
      "         18    0.85217   0.82353   0.83761       119\n",
      "         19    0.84000   0.46667   0.60000        45\n",
      "         20    0.88889   0.10000   0.17978        80\n",
      "         21    0.97807   0.96674   0.97237      2676\n",
      "\n",
      "avg / total    0.83061   0.81119   0.79493     17054\n",
      "\n"
     ]
    }
   ],
   "source": [
    "# print classification report\n",
    "classes = model.predict(X_test_vol).round()\n",
    "print(classification_report(y_test_encoded, classes, digits=5))  "
   ]
  },
  {
   "cell_type": "markdown",
   "metadata": {},
   "source": [
    "#### CNN"
   ]
  },
  {
   "cell_type": "code",
   "execution_count": 66,
   "metadata": {},
   "outputs": [
    {
     "data": {
      "image/png": "[encoded data removed]",
      "text/plain": [
       "<Figure size 864x576 with 2 Axes>"
      ]
     },
     "metadata": {},
     "output_type": "display_data"
    },
    {
     "data": {
      "text/plain": [
       "<keras.callbacks.History at 0x1d1415b3a20>"
      ]
     },
     "execution_count": 66,
     "metadata": {},
     "output_type": "execute_result"
    }
   ],
   "source": [
    "model = Sequential()\n",
    "model.add(Conv1D(128, 3, activation='relu', input_shape=(max_len, EMBEDDING_LENGTH)))\n",
    "model.add(MaxPooling1D(2, padding='same'))\n",
    "model.add(Dropout(0.2))\n",
    "# model.add(BatchNormalization())\n",
    "\n",
    "# model.add(Conv1D(128, 3, activation='relu', padding='same'))\n",
    "# model.add(MaxPooling1D(2, padding='same'))\n",
    "# model.add(BatchNormalization())\n",
    "\n",
    "model.add(Flatten())\n",
    "model.add(Dense(num_classes, activation='softmax'))\n",
    "model.compile(loss='categorical_crossentropy', optimizer='adam', metrics=['accuracy'])\n",
    "print(model.summary())\n",
    "model.fit(X_train_vol, y_train_encoded, validation_data=(X_test_vol, y_test_encoded), epochs=14, batch_size=16,callbacks=[PlotLossesKeras()])"
   ]
  },
  {
   "cell_type": "code",
   "execution_count": 67,
   "metadata": {
    "slideshow": {
     "slide_type": "subslide"
    }
   },
   "outputs": [
    {
     "name": "stdout",
     "output_type": "stream",
     "text": [
      "39791/39791 [==============================] - 3s 64us/step\n",
      "17054/17054 [==============================] - 1s 55us/step\n",
      "Train accuracy:\t0.8135005403306784\n",
      "Test accuracy:\t0.8033892341692953\n"
     ]
    }
   ],
   "source": [
    "# print accuracy\n",
    "score_train = model.evaluate(X_train_vol, y_train_encoded)\n",
    "score_test = model.evaluate(X_test_vol, y_test_encoded)\n",
    "print(\"Train accuracy:\\t\" + str(score_train[1]))\n",
    "print(\"Test accuracy:\\t\" + str(score_test[1]))"
   ]
  },
  {
   "cell_type": "code",
   "execution_count": 68,
   "metadata": {
    "slideshow": {
     "slide_type": "skip"
    }
   },
   "outputs": [
    {
     "name": "stdout",
     "output_type": "stream",
     "text": [
      "             precision    recall  f1-score   support\n",
      "\n",
      "          0    0.66667   0.18605   0.29091        43\n",
      "          1    0.74000   0.54412   0.62712        68\n",
      "          2    0.64286   0.26087   0.37113        69\n",
      "          3    0.53846   0.21875   0.31111        32\n",
      "          4    0.80000   0.10000   0.17778        40\n",
      "          5    0.80000   0.16000   0.26667        50\n",
      "          6    0.72222   0.41935   0.53061        62\n",
      "          7    0.61111   0.35484   0.44898        31\n",
      "          8    0.77083   0.53623   0.63248        69\n",
      "          9    0.64286   0.21951   0.32727        41\n",
      "         10    0.89744   0.45455   0.60345        77\n",
      "         11    0.80381   0.96489   0.87702      9970\n",
      "         12    0.28571   0.04762   0.08163        42\n",
      "         13    0.75369   0.52218   0.61694       293\n",
      "         14    0.73211   0.25150   0.37438      3010\n",
      "         15    0.85714   0.69767   0.76923        43\n",
      "         16    0.89655   0.39394   0.54737        66\n",
      "         17    0.57609   0.41406   0.48182       128\n",
      "         18    0.82692   0.72269   0.77130       119\n",
      "         19    0.80000   0.17778   0.29091        45\n",
      "         20    0.55556   0.06250   0.11236        80\n",
      "         21    0.97222   0.94170   0.95672      2676\n",
      "\n",
      "avg / total    0.81070   0.78926   0.76940     17054\n",
      "\n"
     ]
    }
   ],
   "source": [
    "# print classification report\n",
    "classes = model.predict(X_test_vol).round()\n",
    "print(classification_report(y_test_encoded, classes, digits=5))  "
   ]
  },
  {
   "cell_type": "markdown",
   "metadata": {},
   "source": [
    "#### Bidirectional LSTM"
   ]
  },
  {
   "cell_type": "code",
   "execution_count": 53,
   "metadata": {},
   "outputs": [
    {
     "data": {
      "image/png": "[encoded data removed]",
      "text/plain": [
       "<Figure size 864x576 with 2 Axes>"
      ]
     },
     "metadata": {},
     "output_type": "display_data"
    },
    {
     "data": {
      "text/plain": [
       "<keras.callbacks.History at 0x1d1280dcef0>"
      ]
     },
     "execution_count": 53,
     "metadata": {},
     "output_type": "execute_result"
    }
   ],
   "source": [
    "# build LSTM layers and train model - should experiment with layers, hyperparameters, bidirectional LSTM, and 1D CNN\n",
    "model = Sequential()\n",
    "model.add(Bidirectional(LSTM(100, dropout= 0.2, input_shape=(max_len, EMBEDDING_LENGTH))))\n",
    "model.add(Activation('relu'))\n",
    "model.add(Dense(num_classes, activation='softmax'))\n",
    "model.compile(loss='categorical_crossentropy', optimizer='adam', metrics=['accuracy'])\n",
    "# print(model.summary())\n",
    "model.fit(X_train_vol, y_train_encoded, validation_data=(X_test_vol, y_test_encoded), epochs=14, batch_size=16,callbacks=[PlotLossesKeras()])"
   ]
  },
  {
   "cell_type": "code",
   "execution_count": 54,
   "metadata": {
    "slideshow": {
     "slide_type": "subslide"
    }
   },
   "outputs": [
    {
     "name": "stdout",
     "output_type": "stream",
     "text": [
      "39791/39791 [==============================] - 8s 210us/step\n",
      "17054/17054 [==============================] - 3s 157us/step\n",
      "Train accuracy:\t0.8359930637671239\n",
      "Test accuracy:\t0.825319573085725\n"
     ]
    }
   ],
   "source": [
    "# print accuracy\n",
    "score_train = model.evaluate(X_train_vol, y_train_encoded)\n",
    "score_test = model.evaluate(X_test_vol, y_test_encoded)\n",
    "print(\"Train accuracy:\\t\" + str(score_train[1]))\n",
    "print(\"Test accuracy:\\t\" + str(score_test[1]))"
   ]
  },
  {
   "cell_type": "code",
   "execution_count": 55,
   "metadata": {
    "slideshow": {
     "slide_type": "skip"
    }
   },
   "outputs": [
    {
     "name": "stdout",
     "output_type": "stream",
     "text": [
      "             precision    recall  f1-score   support\n",
      "\n",
      "          0    0.91667   0.25581   0.40000        43\n",
      "          1    0.80645   0.73529   0.76923        68\n",
      "          2    0.74359   0.42029   0.53704        69\n",
      "          3    0.73684   0.43750   0.54902        32\n",
      "          4    0.89189   0.82500   0.85714        40\n",
      "          5    0.74194   0.46000   0.56790        50\n",
      "          6    0.72881   0.69355   0.71074        62\n",
      "          7    0.94444   0.54839   0.69388        31\n",
      "          8    0.97872   0.66667   0.79310        69\n",
      "          9    0.75000   0.51220   0.60870        41\n",
      "         10    0.87719   0.64935   0.74627        77\n",
      "         11    0.81668   0.96961   0.88660      9970\n",
      "         12    0.75000   0.07143   0.13043        42\n",
      "         13    0.80077   0.71331   0.75451       293\n",
      "         14    0.80219   0.26811   0.40189      3010\n",
      "         15    0.88095   0.86047   0.87059        43\n",
      "         16    0.90000   0.40909   0.56250        66\n",
      "         17    0.80357   0.35156   0.48913       128\n",
      "         18    0.84375   0.68067   0.75349       119\n",
      "         19    0.93548   0.64444   0.76316        45\n",
      "         20    0.80000   0.10000   0.17778        80\n",
      "         21    0.96400   0.98057   0.97221      2676\n",
      "\n",
      "avg / total    0.83801   0.81353   0.79408     17054\n",
      "\n"
     ]
    }
   ],
   "source": [
    "# print classification report\n",
    "classes = model.predict(X_test_vol).round()\n",
    "print(classification_report(y_test_encoded, classes, digits=5))  "
   ]
  },
  {
   "cell_type": "markdown",
   "metadata": {},
   "source": [
    "## Doc2Vec Embeddings"
   ]
  },
  {
   "cell_type": "code",
   "execution_count": 39,
   "metadata": {
    "slideshow": {
     "slide_type": "slide"
    }
   },
   "outputs": [],
   "source": [
    "# train doc2vec vectors\n",
    "documents = [TaggedDocument(doc, [i]) for i, doc in enumerate(X_text)]\n",
    "model_d2v = Doc2Vec(vector_size=EMBEDDING_LENGTH, window=2, min_count=5, workers=4, iter=100)\n",
    "model_d2v.build_vocab(documents)\n",
    "model_d2v.train(documents, total_examples=model_d2v.corpus_count, epochs=model_d2v.iter)\n",
    "X_d2v = model_d2v.docvecs"
   ]
  },
  {
   "cell_type": "code",
   "execution_count": 40,
   "metadata": {
    "slideshow": {
     "slide_type": "slide"
    }
   },
   "outputs": [
    {
     "name": "stdout",
     "output_type": "stream",
     "text": [
      "Train accuracy:\t1.0\n",
      "Test accuracy :\t0.8929283452562449\n"
     ]
    }
   ],
   "source": [
    "# train classifier on Doc2Vec vectors\n",
    "X_train_d2v, X_test_d2v, y_train, y_test = train_test_split(X_d2v, y, stratify=y, test_size=0.3, random_state=1)\n",
    "\n",
    "clf_d2v = ExtraTreesClassifier(n_estimators = 500, n_jobs = 4, random_state = 1)\n",
    "clf_d2v.fit(X_train_d2v, y_train)\n",
    "print(\"Train accuracy:\\t\" + str(clf_d2v.score(X_train_d2v, y_train)))\n",
    "print(\"Test accuracy :\\t\" + str(clf_d2v.score(X_test_d2v, y_test)))"
   ]
  },
  {
   "cell_type": "code",
   "execution_count": 41,
   "metadata": {
    "slideshow": {
     "slide_type": "skip"
    }
   },
   "outputs": [
    {
     "name": "stdout",
     "output_type": "stream",
     "text": [
      "             precision    recall  f1-score   support\n",
      "\n",
      "          0    0.78571   0.25581   0.38596        43\n",
      "          1    0.92593   0.36765   0.52632        68\n",
      "          2    0.73077   0.27536   0.40000        69\n",
      "          3    1.00000   0.25000   0.40000        32\n",
      "          4    1.00000   0.70000   0.82353        40\n",
      "          5    0.90000   0.54000   0.67500        50\n",
      "          6    0.94286   0.53226   0.68041        62\n",
      "          7    0.00000   0.00000   0.00000        31\n",
      "          8    0.90909   0.28986   0.43956        69\n",
      "          9    1.00000   0.63415   0.77612        41\n",
      "         10    0.97500   0.50649   0.66667        77\n",
      "         11    0.87312   0.98215   0.92443      9970\n",
      "         12    0.00000   0.00000   0.00000        42\n",
      "         13    0.94805   0.49829   0.65324       293\n",
      "         14    0.90624   0.75781   0.82540      3010\n",
      "         15    0.86364   0.44186   0.58462        43\n",
      "         16    0.80952   0.25758   0.39080        66\n",
      "         17    0.93182   0.32031   0.47674       128\n",
      "         18    0.91667   0.36975   0.52695       119\n",
      "         19    1.00000   0.40000   0.57143        45\n",
      "         20    1.00000   0.08750   0.16092        80\n",
      "         21    0.95458   0.98169   0.96794      2676\n",
      "\n",
      "avg / total    0.89189   0.89293   0.88021     17054\n",
      "\n"
     ]
    },
    {
     "data": {
      "image/png": "[encoded data removed]",
      "text/plain": [
       "<Figure size 432x288 with 2 Axes>"
      ]
     },
     "metadata": {},
     "output_type": "display_data"
    }
   ],
   "source": [
    "# print metrics and confusion matrix\n",
    "classes = clf_d2v.predict(X_test_d2v).round()\n",
    "print(classification_report(y_test, classes, digits=5))  \n",
    "plot_confusion_matrix(confusion_matrix(y_test, classes), classes=y.unique()) "
   ]
  }
 ],
 "metadata": {
  "kernelspec": {
   "display_name": "Python 3.5",
   "language": "python",
   "name": "python3"
  },
  "language_info": {
   "codemirror_mode": {
    "name": "ipython",
    "version": 3
   },
   "file_extension": ".py",
   "mimetype": "text/x-python",
   "name": "python",
   "nbconvert_exporter": "python",
   "pygments_lexer": "ipython3",
   "version": "3.5.6"
  }
 },
 "nbformat": 4,
 "nbformat_minor": 2
}
